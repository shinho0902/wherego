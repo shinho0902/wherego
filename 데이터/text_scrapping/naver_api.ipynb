{
 "cells": [
  {
   "cell_type": "code",
   "execution_count": 1,
   "metadata": {},
   "outputs": [],
   "source": [
    "import requests\n",
    "import urllib\n",
    "from urllib.parse import quote\n",
    "import pandas as pd\n",
    "import time"
   ]
  },
  {
   "cell_type": "code",
   "execution_count": 2,
   "metadata": {},
   "outputs": [],
   "source": [
    "# app 클라이언트 id 및 secret\n",
    "client_id = '3KRFJUxrq1MnceEpl8__'\n",
    "client_secret = 'sqx50WiesV'\n",
    "headers = {'X-Naver-Client-Id':client_id, \n",
    "        'X-Naver-Client-Secret':client_secret}"
   ]
  },
  {
   "attachments": {},
   "cell_type": "markdown",
   "metadata": {},
   "source": [
    "url 형태 : \"https://openapi.naver.com/v1/search/local.xml?query=%EC%A3%BC%EC%8B%9D&display=10&start=1&sort=random\" <br>"
   ]
  },
  {
   "cell_type": "code",
   "execution_count": 3,
   "metadata": {},
   "outputs": [],
   "source": [
    "# search_input = '경기도 용인시 수지구 풍덕천동 파스타집'"
   ]
  },
  {
   "cell_type": "code",
   "execution_count": 4,
   "metadata": {},
   "outputs": [],
   "source": [
    "# # url 생성\n",
    "# url_base=\"https://openapi.naver.com/v1/search/local.json?query=\"\n",
    "# keyword = quote(search_input)\n",
    "\n",
    "# url_2 = \"&display=\"\n",
    "# display = '5' # 한 번에 표시할 검색 결과 개수(기본값: 1, 최댓값: 5)\n",
    "\n",
    "# url_3=\"$&start=\" \n",
    "# start = '1' # 검색 시작 위치(기본값: 1, 최댓값: 1)\n",
    "\n",
    "# url_4 = \"&sort=\"\n",
    "# # sort = 'random' # random: 정확도순으로 내림차순 정렬(기본값)\n",
    "# sort = 'comment' # comment: 업체 및 기관에 대한 카페, 블로그의 리뷰 개수순으로 내림차순 정렬\n",
    "\n",
    "# url = url_base + keyword + url_2 + display + url_3 + start + url_4 + sort\n",
    "\n",
    "# result = requests.get(url, headers = headers).json()"
   ]
  },
  {
   "cell_type": "code",
   "execution_count": 5,
   "metadata": {},
   "outputs": [],
   "source": [
    "# df = pd.DataFrame(result['items'])\n",
    "# df['search_input'] = search_input\n",
    "# df"
   ]
  },
  {
   "cell_type": "code",
   "execution_count": 6,
   "metadata": {},
   "outputs": [
    {
     "data": {
      "text/html": [
       "<div>\n",
       "<style scoped>\n",
       "    .dataframe tbody tr th:only-of-type {\n",
       "        vertical-align: middle;\n",
       "    }\n",
       "\n",
       "    .dataframe tbody tr th {\n",
       "        vertical-align: top;\n",
       "    }\n",
       "\n",
       "    .dataframe thead th {\n",
       "        text-align: right;\n",
       "    }\n",
       "</style>\n",
       "<table border=\"1\" class=\"dataframe\">\n",
       "  <thead>\n",
       "    <tr style=\"text-align: right;\">\n",
       "      <th></th>\n",
       "      <th>keyword</th>\n",
       "    </tr>\n",
       "  </thead>\n",
       "  <tbody>\n",
       "    <tr>\n",
       "      <th>0</th>\n",
       "      <td>경기도 수원시 장안구 파장동 가정식</td>\n",
       "    </tr>\n",
       "    <tr>\n",
       "      <th>1</th>\n",
       "      <td>경기도 수원시 장안구 파장동 갈비</td>\n",
       "    </tr>\n",
       "    <tr>\n",
       "      <th>2</th>\n",
       "      <td>경기도 수원시 장안구 파장동 게요리</td>\n",
       "    </tr>\n",
       "    <tr>\n",
       "      <th>3</th>\n",
       "      <td>경기도 수원시 장안구 파장동 고기</td>\n",
       "    </tr>\n",
       "    <tr>\n",
       "      <th>4</th>\n",
       "      <td>경기도 수원시 장안구 파장동 고기뷔페</td>\n",
       "    </tr>\n",
       "    <tr>\n",
       "      <th>5</th>\n",
       "      <td>경기도 수원시 장안구 파장동 곰탕</td>\n",
       "    </tr>\n",
       "    <tr>\n",
       "      <th>6</th>\n",
       "      <td>경기도 수원시 장안구 파장동 곱창</td>\n",
       "    </tr>\n",
       "    <tr>\n",
       "      <th>7</th>\n",
       "      <td>경기도 수원시 장안구 파장동 과일쥬스</td>\n",
       "    </tr>\n",
       "    <tr>\n",
       "      <th>8</th>\n",
       "      <td>경기도 수원시 장안구 파장동 과자</td>\n",
       "    </tr>\n",
       "    <tr>\n",
       "      <th>9</th>\n",
       "      <td>경기도 수원시 장안구 파장동 국밥</td>\n",
       "    </tr>\n",
       "  </tbody>\n",
       "</table>\n",
       "</div>"
      ],
      "text/plain": [
       "                keyword\n",
       "0   경기도 수원시 장안구 파장동 가정식\n",
       "1    경기도 수원시 장안구 파장동 갈비\n",
       "2   경기도 수원시 장안구 파장동 게요리\n",
       "3    경기도 수원시 장안구 파장동 고기\n",
       "4  경기도 수원시 장안구 파장동 고기뷔페\n",
       "5    경기도 수원시 장안구 파장동 곰탕\n",
       "6    경기도 수원시 장안구 파장동 곱창\n",
       "7  경기도 수원시 장안구 파장동 과일쥬스\n",
       "8    경기도 수원시 장안구 파장동 과자\n",
       "9    경기도 수원시 장안구 파장동 국밥"
      ]
     },
     "execution_count": 6,
     "metadata": {},
     "output_type": "execute_result"
    }
   ],
   "source": [
    "name_df = pd.read_csv('geonggi_food_df.csv')\n",
    "name_df = name_df[:10] # 샘플 n개\n",
    "# name_df = name_df[10000:20000] # [a:b] a ~ b-1\n",
    "name_df"
   ]
  },
  {
   "cell_type": "code",
   "execution_count": null,
   "metadata": {},
   "outputs": [],
   "source": []
  },
  {
   "cell_type": "code",
   "execution_count": 7,
   "metadata": {},
   "outputs": [],
   "source": [
    "def make_url(search_input):\n",
    "    # url 생성\n",
    "    url_base=\"https://openapi.naver.com/v1/search/local.json?query=\"\n",
    "    keyword = quote(search_input)\n",
    "\n",
    "    url_2 = \"&display=\"\n",
    "    display = '5' # 한 번에 표시할 검색 결과 개수(기본값: 1, 최댓값: 5)\n",
    "\n",
    "    url_3=\"$&start=\" \n",
    "    start = '1' # 검색 시작 위치(기본값: 1, 최댓값: 1)\n",
    "\n",
    "    url_4 = \"&sort=\"\n",
    "    sort = 'random' # random: 정확도순으로 내림차순 정렬(기본값)\n",
    "    # sort = 'comment' # comment: 업체 및 기관에 대한 카페, 블로그의 리뷰 개수순으로 내림차순 정렬\n",
    "\n",
    "    url = url_base + keyword + url_2 + display + url_3 + start + url_4 + sort\n",
    "\n",
    "    return url"
   ]
  },
  {
   "cell_type": "code",
   "execution_count": 8,
   "metadata": {},
   "outputs": [],
   "source": [
    "def search_stores(search_input):\n",
    "    \n",
    "    url = make_url(search_input)\n",
    "\n",
    "    while True:\n",
    "        try:\n",
    "            result = requests.get(url, headers = headers, timeout=15).json()\n",
    "            time.sleep(0.1)\n",
    "\n",
    "            df = pd.DataFrame(result['items'])\n",
    "            df['search_input'] = search_input\n",
    "\n",
    "            return df\n",
    "\n",
    "        except requests.exceptions.Timeout:\n",
    "                print('### requests.exceptions.Timeout ###')\n",
    "                time.sleep(5)\n",
    "                continue\n",
    "    \n",
    "        except TimeoutError:\n",
    "                print('### TimeoutError ###')\n",
    "                time.sleep(5)\n",
    "                continue\n",
    "\n",
    "        except ConnectionError:\n",
    "                print('### ConnectionError ###')\n",
    "                time.sleep(5)\n",
    "                continue\n",
    "\n",
    "        except KeyError:\n",
    "                print('### KeyError ###')\n",
    "                time.sleep(5)\n",
    "                continue\n",
    "    "
   ]
  },
  {
   "cell_type": "code",
   "execution_count": 9,
   "metadata": {},
   "outputs": [
    {
     "data": {
      "text/html": [
       "<div>\n",
       "<style scoped>\n",
       "    .dataframe tbody tr th:only-of-type {\n",
       "        vertical-align: middle;\n",
       "    }\n",
       "\n",
       "    .dataframe tbody tr th {\n",
       "        vertical-align: top;\n",
       "    }\n",
       "\n",
       "    .dataframe thead th {\n",
       "        text-align: right;\n",
       "    }\n",
       "</style>\n",
       "<table border=\"1\" class=\"dataframe\">\n",
       "  <thead>\n",
       "    <tr style=\"text-align: right;\">\n",
       "      <th></th>\n",
       "      <th>title</th>\n",
       "      <th>link</th>\n",
       "      <th>category</th>\n",
       "      <th>description</th>\n",
       "      <th>telephone</th>\n",
       "      <th>address</th>\n",
       "      <th>roadAddress</th>\n",
       "      <th>mapx</th>\n",
       "      <th>mapy</th>\n",
       "      <th>search_input</th>\n",
       "    </tr>\n",
       "  </thead>\n",
       "  <tbody>\n",
       "  </tbody>\n",
       "</table>\n",
       "</div>"
      ],
      "text/plain": [
       "Empty DataFrame\n",
       "Columns: [title, link, category, description, telephone, address, roadAddress, mapx, mapy, search_input]\n",
       "Index: []"
      ]
     },
     "execution_count": 9,
     "metadata": {},
     "output_type": "execute_result"
    }
   ],
   "source": [
    "# 빈 데이터프레임 생성\n",
    "col = ['title', 'link', 'category', 'description', 'telephone', 'address', 'roadAddress', 'mapx', 'mapy', 'search_input']\n",
    "result_df = pd.DataFrame(columns=col)\n",
    "result_df"
   ]
  },
  {
   "cell_type": "code",
   "execution_count": 10,
   "metadata": {},
   "outputs": [
    {
     "name": "stdout",
     "output_type": "stream",
     "text": [
      "cnt: 0\n",
      "********** 경기도 수원시 장안구 파장동 가정식 **********\n",
      "cnt: 1\n",
      "********** 경기도 수원시 장안구 파장동 갈비 **********\n",
      "cnt: 2\n",
      "********** 경기도 수원시 장안구 파장동 게요리 **********\n",
      "cnt: 3\n",
      "********** 경기도 수원시 장안구 파장동 고기 **********\n",
      "cnt: 4\n",
      "********** 경기도 수원시 장안구 파장동 고기뷔페 **********\n",
      "cnt: 5\n",
      "********** 경기도 수원시 장안구 파장동 곰탕 **********\n",
      "cnt: 6\n",
      "********** 경기도 수원시 장안구 파장동 곱창 **********\n",
      "cnt: 7\n",
      "********** 경기도 수원시 장안구 파장동 과일쥬스 **********\n",
      "cnt: 8\n",
      "********** 경기도 수원시 장안구 파장동 과자 **********\n",
      "cnt: 9\n",
      "********** 경기도 수원시 장안구 파장동 국밥 **********\n"
     ]
    }
   ],
   "source": [
    "cnt = 0\n",
    "for kw in name_df['keyword']:\n",
    "    print('cnt:', cnt)\n",
    "    print('*'*10, kw, '*'*10)\n",
    "    add_df = search_stores(kw)\n",
    "    result_df = pd.concat([result_df, add_df])\n",
    "    cnt += 1\n",
    "result_df = result_df.reset_index(drop=True)"
   ]
  },
  {
   "cell_type": "code",
   "execution_count": 11,
   "metadata": {},
   "outputs": [
    {
     "data": {
      "text/plain": [
       "47"
      ]
     },
     "execution_count": 11,
     "metadata": {},
     "output_type": "execute_result"
    }
   ],
   "source": [
    "len(result_df)"
   ]
  },
  {
   "cell_type": "code",
   "execution_count": 12,
   "metadata": {},
   "outputs": [
    {
     "data": {
      "text/html": [
       "<div>\n",
       "<style scoped>\n",
       "    .dataframe tbody tr th:only-of-type {\n",
       "        vertical-align: middle;\n",
       "    }\n",
       "\n",
       "    .dataframe tbody tr th {\n",
       "        vertical-align: top;\n",
       "    }\n",
       "\n",
       "    .dataframe thead th {\n",
       "        text-align: right;\n",
       "    }\n",
       "</style>\n",
       "<table border=\"1\" class=\"dataframe\">\n",
       "  <thead>\n",
       "    <tr style=\"text-align: right;\">\n",
       "      <th></th>\n",
       "      <th>title</th>\n",
       "      <th>link</th>\n",
       "      <th>category</th>\n",
       "      <th>description</th>\n",
       "      <th>telephone</th>\n",
       "      <th>address</th>\n",
       "      <th>roadAddress</th>\n",
       "      <th>mapx</th>\n",
       "      <th>mapy</th>\n",
       "      <th>search_input</th>\n",
       "    </tr>\n",
       "  </thead>\n",
       "  <tbody>\n",
       "    <tr>\n",
       "      <th>0</th>\n",
       "      <td>토담골</td>\n",
       "      <td></td>\n",
       "      <td>한식&gt;백반,가정식</td>\n",
       "      <td></td>\n",
       "      <td></td>\n",
       "      <td>경기도 수원시 장안구 파장동 578-18 1층</td>\n",
       "      <td>경기도 수원시 장안구 경수대로1073번길 24 1층</td>\n",
       "      <td>311034</td>\n",
       "      <td>523384</td>\n",
       "      <td>경기도 수원시 장안구 파장동 가정식</td>\n",
       "    </tr>\n",
       "    <tr>\n",
       "      <th>1</th>\n",
       "      <td>현정이네식당</td>\n",
       "      <td></td>\n",
       "      <td>한식&gt;백반,가정식</td>\n",
       "      <td></td>\n",
       "      <td></td>\n",
       "      <td>경기도 수원시 장안구 파장동 595-16</td>\n",
       "      <td>경기도 수원시 장안구 경수대로1031번길 8 한국일보</td>\n",
       "      <td>311442</td>\n",
       "      <td>523255</td>\n",
       "      <td>경기도 수원시 장안구 파장동 가정식</td>\n",
       "    </tr>\n",
       "    <tr>\n",
       "      <th>2</th>\n",
       "      <td>이목식당</td>\n",
       "      <td></td>\n",
       "      <td>한식&gt;백반,가정식</td>\n",
       "      <td></td>\n",
       "      <td></td>\n",
       "      <td>경기도 수원시 장안구 이목동 210-10</td>\n",
       "      <td>경기도 수원시 장안구 장안로 433</td>\n",
       "      <td>309873</td>\n",
       "      <td>524501</td>\n",
       "      <td>경기도 수원시 장안구 파장동 가정식</td>\n",
       "    </tr>\n",
       "    <tr>\n",
       "      <th>3</th>\n",
       "      <td>엄마밥상</td>\n",
       "      <td></td>\n",
       "      <td>한식&gt;백반,가정식</td>\n",
       "      <td></td>\n",
       "      <td></td>\n",
       "      <td>경기도 수원시 장안구 파장동 267-1</td>\n",
       "      <td>경기도 수원시 장안구 경수대로1078번길 17-1 경진만물전자</td>\n",
       "      <td>311107</td>\n",
       "      <td>523601</td>\n",
       "      <td>경기도 수원시 장안구 파장동 가정식</td>\n",
       "    </tr>\n",
       "    <tr>\n",
       "      <th>4</th>\n",
       "      <td>행복한밥상</td>\n",
       "      <td></td>\n",
       "      <td>한식&gt;백반,가정식</td>\n",
       "      <td></td>\n",
       "      <td></td>\n",
       "      <td>경기도 수원시 장안구 조원동 774-2</td>\n",
       "      <td>경기도 수원시 장안구 송정로 164</td>\n",
       "      <td>312842</td>\n",
       "      <td>522231</td>\n",
       "      <td>경기도 수원시 장안구 파장동 가정식</td>\n",
       "    </tr>\n",
       "  </tbody>\n",
       "</table>\n",
       "</div>"
      ],
      "text/plain": [
       "    title link   category description telephone                    address  \\\n",
       "0     토담골       한식>백반,가정식                        경기도 수원시 장안구 파장동 578-18 1층   \n",
       "1  현정이네식당       한식>백반,가정식                           경기도 수원시 장안구 파장동 595-16   \n",
       "2    이목식당       한식>백반,가정식                           경기도 수원시 장안구 이목동 210-10   \n",
       "3    엄마밥상       한식>백반,가정식                            경기도 수원시 장안구 파장동 267-1   \n",
       "4   행복한밥상       한식>백반,가정식                            경기도 수원시 장안구 조원동 774-2   \n",
       "\n",
       "                          roadAddress    mapx    mapy         search_input  \n",
       "0        경기도 수원시 장안구 경수대로1073번길 24 1층  311034  523384  경기도 수원시 장안구 파장동 가정식  \n",
       "1       경기도 수원시 장안구 경수대로1031번길 8 한국일보  311442  523255  경기도 수원시 장안구 파장동 가정식  \n",
       "2                 경기도 수원시 장안구 장안로 433  309873  524501  경기도 수원시 장안구 파장동 가정식  \n",
       "3  경기도 수원시 장안구 경수대로1078번길 17-1 경진만물전자  311107  523601  경기도 수원시 장안구 파장동 가정식  \n",
       "4                 경기도 수원시 장안구 송정로 164  312842  522231  경기도 수원시 장안구 파장동 가정식  "
      ]
     },
     "execution_count": 12,
     "metadata": {},
     "output_type": "execute_result"
    }
   ],
   "source": [
    "result_df.head()"
   ]
  },
  {
   "cell_type": "code",
   "execution_count": 13,
   "metadata": {},
   "outputs": [
    {
     "data": {
      "text/plain": [
       "4"
      ]
     },
     "execution_count": 13,
     "metadata": {},
     "output_type": "execute_result"
    }
   ],
   "source": [
    "# 중복 행 확인\n",
    "result_df.duplicated(['mapx','mapy']).sum()"
   ]
  },
  {
   "cell_type": "code",
   "execution_count": 14,
   "metadata": {},
   "outputs": [
    {
     "name": "stdout",
     "output_type": "stream",
     "text": [
      "중복제거 이전 길이: 47\n",
      "중복제거 이후 길이: 43\n"
     ]
    }
   ],
   "source": [
    "print('중복제거 이전 길이:', len(result_df))\n",
    "\n",
    "result_df_d = result_df.drop_duplicates(['mapx','mapy']) # 중복제거\n",
    "result_df_d = result_df_d.reset_index(drop=True)\n",
    "print('중복제거 이후 길이:', len(result_df_d))"
   ]
  },
  {
   "cell_type": "code",
   "execution_count": 15,
   "metadata": {},
   "outputs": [],
   "source": [
    "result_df_d.to_csv('gg_search_sample.csv',encoding='utf-8-sig',index=False)"
   ]
  },
  {
   "cell_type": "code",
   "execution_count": null,
   "metadata": {},
   "outputs": [],
   "source": []
  },
  {
   "cell_type": "code",
   "execution_count": null,
   "metadata": {},
   "outputs": [],
   "source": []
  },
  {
   "cell_type": "code",
   "execution_count": null,
   "metadata": {},
   "outputs": [],
   "source": []
  }
 ],
 "metadata": {
  "kernelspec": {
   "display_name": "Python 3",
   "language": "python",
   "name": "python3"
  },
  "language_info": {
   "codemirror_mode": {
    "name": "ipython",
    "version": 3
   },
   "file_extension": ".py",
   "mimetype": "text/x-python",
   "name": "python",
   "nbconvert_exporter": "python",
   "pygments_lexer": "ipython3",
   "version": "3.9.13"
  },
  "orig_nbformat": 4,
  "vscode": {
   "interpreter": {
    "hash": "cf92aa13fedf815d5c8dd192b8d835913fde3e8bc926b2a0ad6cc74ef2ba3ca2"
   }
  }
 },
 "nbformat": 4,
 "nbformat_minor": 2
}
